{
 "cells": [
  {
   "cell_type": "code",
   "execution_count": 1,
   "metadata": {},
   "outputs": [],
   "source": [
    "import pandas as pd\n",
    "import json\n",
    "import os\n",
    "from pymongo.mongo_client import MongoClient\n",
    "from pymongo.server_api import ServerApi\n",
    "from datetime import datetime"
   ]
  },
  {
   "cell_type": "markdown",
   "metadata": {},
   "source": [
    "## Actividad 1\n",
    "Leer los csv y los json, además hacer las bases de datos y archivos"
   ]
  },
  {
   "cell_type": "code",
   "execution_count": 2,
   "metadata": {},
   "outputs": [],
   "source": [
    "df1 = pd.read_csv('db1.csv')\n",
    "df2 = pd.read_csv('db2.csv')\n",
    "\n",
    "with open('log.json') as f:\n",
    "    log_file = json.load(f)\n",
    "\n",
    "# Carga el archivo JSON de usuarios\n",
    "with open(\"users.json\", \"r\") as archivo:\n",
    "    users = json.load(archivo)"
   ]
  },
  {
   "cell_type": "markdown",
   "metadata": {},
   "source": [
    "## Tarea 1\n",
    "1. input con el nombre\n",
    "2. Recorrer el diccionario trayendonos los datos a los que puede acceder cada usuario segun su nivel\n",
    "3. si el usuario no existe tirar un except \"no esta definido el usuario....\"\n"
   ]
  },
  {
   "cell_type": "code",
   "execution_count": 3,
   "metadata": {},
   "outputs": [],
   "source": [
    "# Función para buscar los business_name en un archivo JSON\n",
    "def buscar_business_name(archivo, profile):\n",
    "    with open(archivo, \"r\") as file:\n",
    "        data = json.load(file)\n",
    "        business_names = []\n",
    "        for key, value in data.items():\n",
    "            if \"level\" in value and value[\"level\"] == profile:\n",
    "                business_names.append(value[\"business_name\"])\n",
    "        return business_names"
   ]
  },
  {
   "cell_type": "markdown",
   "metadata": {},
   "source": [
    "## Actividad 2\n",
    "* filtrado de las primeras 5 columnas del dataset a las que el usuario tiene acceso"
   ]
  },
  {
   "cell_type": "code",
   "execution_count": 4,
   "metadata": {},
   "outputs": [],
   "source": [
    "# Function to extract the node names from a JSON file based on the \"profile\"\n",
    "def extract_node_names(archivo, profile):\n",
    "    with open(archivo, \"r\") as file:\n",
    "        data = json.load(file)\n",
    "        node_names = []\n",
    "        for key, value in data.items():\n",
    "            if \"level\" in value and value[\"level\"] == profile:\n",
    "                node_names.append(key)\n",
    "        return node_names"
   ]
  },
  {
   "cell_type": "markdown",
   "metadata": {},
   "source": [
    "## Tarea 2\n",
    "Agregar un log de registro, con usuario y timestamp"
   ]
  },
  {
   "cell_type": "code",
   "execution_count": 5,
   "metadata": {},
   "outputs": [],
   "source": [
    "def save_log(user, action, data_requested=None):\n",
    "    # Define the data to be added to the JSON file\n",
    "    new_data = {\"action\": action, \"timestamp\": datetime.now().strftime(\"%d/%m/%Y %H:%M:%S\")}\n",
    "\n",
    "    # Add the \"data_accessed\" variable to the new data if provided\n",
    "    if (action == \"success_db_check\" or action == \"unsuccess_db_check\" ) and data_requested is not None:\n",
    "        new_data[\"data_accessed\"] = data_requested\n",
    "\n",
    "    # Specify the JSON file path\n",
    "    json_file_path = \"log.json\"\n",
    "\n",
    "    # Read existing data from the JSON file (if any)\n",
    "    existing_data = {}\n",
    "    try:\n",
    "        with open(json_file_path, \"r\") as f:\n",
    "            existing_data = json.load(f)\n",
    "    except FileNotFoundError:\n",
    "        # If the file doesn't exist yet, we'll handle the exception and initialize the data as an empty dictionary\n",
    "        pass\n",
    "\n",
    "    # Get the \"action\" and \"timestamp\" values from the new data\n",
    "    action_value = new_data[\"action\"]\n",
    "    timestamp_value = new_data[\"timestamp\"]\n",
    "\n",
    "    # Check if the user exists in the existing data\n",
    "    if user in existing_data:\n",
    "        # Check if \"activities\" key exists, and initialize it if it doesn't\n",
    "        if \"activities\" in existing_data[user]:\n",
    "            existing_data[user][\"activities\"].append(new_data)\n",
    "        else:\n",
    "            existing_data[user][\"activities\"] = [new_data]\n",
    "    else:\n",
    "        # If the user doesn't exist, create a new entry with the action\n",
    "        existing_data[user] = {\"activities\": [new_data]}\n",
    "\n",
    "\n",
    "    # Save the updated data back to the JSON file\n",
    "    with open(json_file_path, \"w\") as f:\n",
    "        json.dump(existing_data, f, indent=4)"
   ]
  },
  {
   "cell_type": "code",
   "execution_count": 9,
   "metadata": {},
   "outputs": [
    {
     "name": "stdout",
     "output_type": "stream",
     "text": [
      "Hola Carlos!!, tu perfil es: PI\n",
      "Ese dato Location no existe en la base de datos\n"
     ]
    }
   ],
   "source": [
    "# Solicita al usuario que ingrese su nombre\n",
    "nombre = input(\"Por favor, ingresa tu nombre: \")\n",
    "actions = ['login','unsucessful_login','success_db_check','unsuccess_db_check']\n",
    "\n",
    "# Verifica si el nombre de usuario está en el JSON\n",
    "if nombre in users:\n",
    "    # Obtiene el valor de \"profile\" asociado al nombre de usuario\n",
    "    save_log(nombre, actions[0])\n",
    "    archivo_usuarios = 'users.json'\n",
    "    with open(archivo_usuarios, \"r\") as file:\n",
    "        data = json.load(file)\n",
    "    profile = data[nombre][\"profile\"]\n",
    "    print(f\"Hola {nombre}!!, tu perfil es: {profile}\")\n",
    "    columna_consulta = input(\"\\n Que columna quieres consultar?\")\n",
    "\n",
    "    # Extract node names from db1.json\n",
    "    node_names_db1 = extract_node_names(\"db1.json\", profile)\n",
    "    # Extract node names from db2.json\n",
    "    node_names_db2 = extract_node_names(\"db2.json\", profile)\n",
    "    \n",
    "    if columna_consulta in node_names_db1:\n",
    "        save_log(nombre, actions[2],columna_consulta)\n",
    "        print(f'Claro {nombre}, aqui tienes la información de {columna_consulta} \\n\\n')\n",
    "        print(df1.loc[:, columna_consulta].head())\n",
    "    elif columna_consulta in node_names_db2:\n",
    "        save_log(nombre, actions[2],columna_consulta)\n",
    "        print(f'Claro {nombre}, aqui tienes la información de {columna_consulta} \\n\\n')\n",
    "        print(df2.loc[:, columna_consulta].head())\n",
    "    else:\n",
    "        save_log(nombre, actions[3],columna_consulta)\n",
    "        print(f'Ese dato {columna_consulta} no existe en la base de datos')\n",
    "\n",
    "else:\n",
    "    save_log(nombre, actions[1])\n",
    "    print(f\"Lo siento {nombre} , no se encontró tu nombre en la base de Usuarios.\")"
   ]
  },
  {
   "cell_type": "code",
   "execution_count": 10,
   "metadata": {},
   "outputs": [],
   "source": [
    "\n",
    "def save_log(user):\n",
    "    # Define the data to be added to the JSON file\n",
    "    new_data = {\"date_hour\": datetime.now().strftime(\"%d/%m/%Y %H:%M:%S\"), \"user\": user}\n",
    "\n",
    "    # Specify the JSON file path\n",
    "    json_file_path = \"log.json\"\n",
    "\n",
    "    # Read existing data from the JSON file (if any)\n",
    "    existing_data = {}\n",
    "    try:\n",
    "        with open(json_file_path, \"r\") as f:\n",
    "            existing_data = json.load(f)\n",
    "    except FileNotFoundError:\n",
    "        # If the file doesn't exist yet, we'll handle the exception and initialize the data as an empty dictionary\n",
    "        pass\n",
    "\n",
    "    # Get the \"user\" value from the new data\n",
    "    user_value = new_data[\"user\"]\n",
    "\n",
    "    # Append the new \"date_hour\" to the list associated with the \"text\" value\n",
    "    if user_value in existing_data:\n",
    "        existing_data[user_value][\"date_hour\"].append(new_data[\"date_hour\"])\n",
    "    else:\n",
    "        existing_data[user_value] = {\"date_hour\": [new_data[\"date_hour\"]]}\n",
    "\n",
    "    # Save the updated data back to the JSON file\n",
    "    with open(json_file_path, \"w\") as f:\n",
    "        json.dump(existing_data, f, indent=4)\n"
   ]
  },
  {
   "cell_type": "code",
   "execution_count": null,
   "metadata": {},
   "outputs": [],
   "source": []
  }
 ],
 "metadata": {
  "kernelspec": {
   "display_name": "Python 3",
   "language": "python",
   "name": "python3"
  },
  "language_info": {
   "codemirror_mode": {
    "name": "ipython",
    "version": 3
   },
   "file_extension": ".py",
   "mimetype": "text/x-python",
   "name": "python",
   "nbconvert_exporter": "python",
   "pygments_lexer": "ipython3",
   "version": "3.9.12"
  },
  "orig_nbformat": 4
 },
 "nbformat": 4,
 "nbformat_minor": 2
}
